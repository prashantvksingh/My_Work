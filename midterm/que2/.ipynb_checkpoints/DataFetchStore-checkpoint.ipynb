{
 "cells": [
  {
   "cell_type": "markdown",
   "metadata": {
    "collapsed": true
   },
   "source": [
    "# Data Fetch & Store\n",
    "- Prepared few lists of year, month and year_month for archive api\n",
    "- Prepared few lists of article categories, most popular section for most popular api\n",
    "- Created the directory hierarchy for archive and most popular api\n",
    "- Created url to fetch data from archive and most popular api\n",
    "- Stored the received response in json files in respective directory hierarchies"
   ]
  },
  {
   "cell_type": "code",
   "execution_count": 2,
   "metadata": {
    "collapsed": true
   },
   "outputs": [],
   "source": [
    "# Importing the required modules\n",
    "import requests\n",
    "import shutil\n",
    "import json\n",
    "import os"
   ]
  },
  {
   "cell_type": "code",
   "execution_count": 4,
   "metadata": {
    "collapsed": false
   },
   "outputs": [],
   "source": [
    "year_list = list(range(1996, 2017)) # Creating a list containing year values from 1996 to 2006\n",
    "month_list = list(range(1, 13)) # Creating a list of all months in a calendar year\n",
    "year_month_list = [(x, y) for x in year_list for y in month_list] # Creating a list containing tuple with year and its month\n",
    "\n",
    "#Creating a list containing the most popular article categories\n",
    "most_popular = ['Books', 'Education', 'Food', 'Technology', 'Science', 'Arts', 'Sports', 'Travel', 'Theater', 'Style']\n",
    "\n",
    "for x in year_list: # Looping through each years from 1996 to 2006\n",
    "    # Creating a path for archive directories irrespective of the OS used\n",
    "    folder_path_archive = os.path.expanduser('~\\\\midterm\\\\data\\\\nyt\\\\archive\\\\' + str(x))\n",
    "    os.makedirs(folder_path_archive, exist_ok=True) # Creating the actual directories\n",
    "\n",
    "for y in ['Emailed', 'Shared', 'Viewed']: #  Looping through each section of most popular api\n",
    "    # Creating a path for most popular directories irrespective of the OS used\n",
    "    folder_path_popular = os.path.expanduser('~\\\\midterm\\\\data\\\\nyt\\\\mostpopular\\\\' + y)\n",
    "    os.makedirs(folder_path_popular, exist_ok=True) # Creating the actual directories\n",
    "\n",
    "nyt_archive_key = os.getenv('nyt_archive_key') # Importing the archive api's key\n",
    "nyt_mostpopular_key=os.getenv('nyt_mostpopular_key') # Importing the most popular api's key"
   ]
  },
  {
   "cell_type": "code",
   "execution_count": 12,
   "metadata": {
    "collapsed": false
   },
   "outputs": [],
   "source": [
    "for x, y in year_month_list: # Looping through each year and its months\n",
    "    # Preparing the archive url for data fetch\n",
    "    archive_url = 'http://api.nytimes.com/svc/archive/v1/' + str(x) + '/' + str(y) + '.json?api-key=' + str(nyt_archive_key)\n",
    "    received_response_archive = requests.get(archive_url) # Storing the response received from archive api\n",
    "    source_file_archive = str(y) + '.json' # Creating the filename for storing the received response\n",
    "    # Creating the filename to the path where the file will be actually stored\n",
    "    target_file_archive = os.path.expanduser('~\\\\midterm\\\\data\\\\nyt\\\\archive\\\\' + str(x) + '\\\\' + str(y) + '.json')\n",
    "    with open(source_file_archive, 'w') as jsonfile: # Opening a file in write mode\n",
    "        json.dump(received_response_archive.json(), jsonfile) # Dumping the received content in the opened file\n",
    "    shutil.move(source_file_archive, target_file_archive) # Moving the file from source to target location"
   ]
  },
  {
   "cell_type": "code",
   "execution_count": 8,
   "metadata": {
    "collapsed": false
   },
   "outputs": [],
   "source": [
    "for popular in most_popular: # Looping through each category of most popular api\n",
    "    # Preparing the url for most emailed content\n",
    "    emailed_url = 'https://api.nytimes.com/svc/mostpopular/v2/mostemailed/' + popular + '/30.json?api-key=' + str(nyt_mostpopular_key)\n",
    "    # Preparing the url for most shared content\n",
    "    shared_url = 'https://api.nytimes.com/svc/mostpopular/v2/mostshared/' + popular + '/30.json?api-key=' + str(nyt_mostpopular_key)\n",
    "    # Preparing the url for most viewed content\n",
    "    viewed_url = 'https://api.nytimes.com/svc/mostpopular/v2/mostviewed/' + popular + '/30.json?api-key=' + str(nyt_mostpopular_key)\n",
    "    \n",
    "    received_response_emailed = requests.get(emailed_url) # Storing the response received from most emailed api\n",
    "    received_response_shared = requests.get(shared_url) # Storing the response received from most shared api\n",
    "    received_response_viewed = requests.get(viewed_url) # Storing the response received from most viewed api\n",
    "    \n",
    "    source_file_emailed = popular + '_emailed.json' # Creating the filename for storing the received response for most emailed\n",
    "    source_file_shared = popular + '_shared.json' # Creating the filename for storing the received response for most shared\n",
    "    source_file_viewed = popular + '_viewed.json' # Creating the filename for storing the received response for most viewed\n",
    "    \n",
    "    # Creating the filename to the path where the most emailed file will be actually stored\n",
    "    target_file_emailed = os.path.expanduser('~\\\\midterm\\\\data\\\\nyt\\\\mostpopular\\\\Emailed\\\\' + popular + '_emailed.json')\n",
    "    # Creating the filename to the path where the most shared file will be actually stored\n",
    "    target_file_shared = os.path.expanduser('~\\\\midterm\\\\data\\\\nyt\\\\mostpopular\\\\Shared\\\\' + popular + '_shared.json')\n",
    "    # Creating the filename to the path where the most viewed file will be actually stored\n",
    "    target_file_viewed = os.path.expanduser('~\\\\midterm\\\\data\\\\nyt\\\\mostpopular\\\\Viewed\\\\' + popular + '_viewed.json')\n",
    "    \n",
    "    with open(source_file_emailed, 'w') as jsonfile_emailed: # Opening a file in write mode\n",
    "        json.dump(received_response_emailed.json(), jsonfile_emailed) # Dumping the received content in the opened file\n",
    "    shutil.move(source_file_emailed, target_file_emailed) # Dumping the received content in the opened file\n",
    "    \n",
    "    with open(source_file_shared, 'w') as jsonfile_shared: # Opening a file in write mode\n",
    "        json.dump(received_response_shared.json(), jsonfile_shared) # Dumping the received content in the opened file\n",
    "    shutil.move(source_file_shared, target_file_shared) # Dumping the received content in the opened file\n",
    "    \n",
    "    with open(source_file_viewed, 'w') as jsonfile_viewed: # Opening a file in write mode\n",
    "        json.dump(received_response_viewed.json(), jsonfile_viewed) # Dumping the received content in the opened file\n",
    "    shutil.move(source_file_viewed, target_file_viewed) # Dumping the received content in the opened file"
   ]
  }
 ],
 "metadata": {
  "anaconda-cloud": {},
  "kernelspec": {
   "display_name": "Python [conda root]",
   "language": "python",
   "name": "conda-root-py"
  },
  "language_info": {
   "codemirror_mode": {
    "name": "ipython",
    "version": 3
   },
   "file_extension": ".py",
   "mimetype": "text/x-python",
   "name": "python",
   "nbconvert_exporter": "python",
   "pygments_lexer": "ipython3",
   "version": "3.5.2"
  }
 },
 "nbformat": 4,
 "nbformat_minor": 1
}
