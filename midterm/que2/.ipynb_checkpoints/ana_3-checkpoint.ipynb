{
 "cells": [
  {
   "cell_type": "markdown",
   "metadata": {},
   "source": [
    "# Analysis 3\n",
    "- Searched internet and created a list containing terror related words and countries with high rates of terrorism\n",
    "- Analyzed each article under archive package and captured articles with terror related data from past 20 years\n",
    "- Calculated frequency of terror related articles yearwise\n",
    "- Printed the top ten year in which nyt published more terror related documents\n",
    "- Plotted a graph to show captured information visually"
   ]
  },
  {
   "cell_type": "code",
   "execution_count": 1,
   "metadata": {
    "collapsed": true
   },
   "outputs": [],
   "source": [
    "# Importing the required modules\n",
    "import json\n",
    "import os\n",
    "import nltk\n",
    "import operator\n",
    "import numpy as np # Used only for arranging y axis values on graph plotted\n",
    "from matplotlib import pyplot as plt"
   ]
  },
  {
   "cell_type": "code",
   "execution_count": 2,
   "metadata": {
    "collapsed": true
   },
   "outputs": [],
   "source": [
    "# Created a list containing most used terror related words and countries with high rates of terrorism\n",
    "terror_activities = ['terror', 'terrorist', 'attack', 'death', 'killing', 'attacks', 'bombing', \n",
    "                     'killings', 'bomb', 'terrorists', 'terrorism', 'deadliest', 'bomber', \n",
    "                     'suicide', '9/11', 'america', 'usa', 'united states', 'embassy', 'embassies', \n",
    "                     'india', 'indian', 'china', 'chinese', 'russia', 'russian', 'germany', 'german', \n",
    "                     'france', 'britain', 'great britain', 'british', 'pakistan', 'pakistani', \n",
    "                     'syria', 'syrian', 'iraq', 'iraqi', 'iran', 'iranian', 'bangladesh', 'bangladeshi', \n",
    "                     'afghanistan', 'afghani', 'nigeria', 'nigerian', 'yemen', 'somalia', 'somalian', 'libya', \n",
    "                     'thailand', 'thai']\n",
    "terror_count = 0 # Creating a count variable and assigning value 0 to it\n",
    "terror_list = [] # Created an empty list to store terror related articles with its id, headline, published date and word count\n",
    "path_archive = os.path.expanduser('~\\\\midterm\\\\data\\\\nyt\\\\archive') # Creating a local path to fetch archive data\n",
    "\n",
    "for subdir, dirs, files in os.walk(path_archive): # Looping through each files present under directories and sub directories\n",
    "    for file in files: # Looping through each found directories, subdirectories or files\n",
    "        if(file[0] != '.'): # If selected file is a file and not a directory\n",
    "            \n",
    "            try: # Putting whole code in a try except block to catch unwanted errors\n",
    "                received_response = open(os.path.join(subdir, file), 'r', errors = 'ignore') # Opening file in read mode\n",
    "                data = json.load(received_response) # Storing the content of opened file\n",
    "                \n",
    "                for x in data['response']['docs']: # Looping through each data section in opened file\n",
    "                    for y in terror_activities: # Looping through each terror words\n",
    "                        # Looping through each words in each lead paragraph of the file\n",
    "                        for z in set([a.lower() for a in nltk.word_tokenize(x['lead_paragraph'])]):                        \n",
    "                            if y == z: # If there is a match for terror related word\n",
    "                                terror_count = terror_count + 1 # Increment the terror count by 1\n",
    "                    if terror_count > 2: # If more than 2 terror related words are found in lead paragraph then add its\n",
    "                                            # detail to the list\n",
    "                        terror_list.append((x['_id'], x['headline']['main'], x['pub_date'][:10], x['word_count']))\n",
    "                    terror_count = 0  # Reassigning the temp count variable to 0 for outer for loop\n",
    "                \n",
    "            except:\n",
    "                #print('error', os.path.join(subdir, file))\n",
    "                pass"
   ]
  },
  {
   "cell_type": "code",
   "execution_count": 3,
   "metadata": {
    "collapsed": false
   },
   "outputs": [],
   "source": [
    "terror_dict = {} # Creating an empty dictionary to store year and number of terror related articles published in that year\n",
    "count = 0 # Creating a count variable and assigning value 0 to it\n",
    "\n",
    "for x in range(1996,2017): # Looping through each year from 1996 to 2016\n",
    "    for y in terror_list: # Looping through each terror related published article\n",
    "        if str(x) == (y[2][:4]): # If the published year matches\n",
    "            count = count + 1 # Incrementing the count by 1            \n",
    "    terror_dict.update({x:count}) # Updating the dictionary with year and number of articles published in that year\n",
    "    count = 0 # Reassigning the temp count variable to 0 for outer for loop"
   ]
  },
  {
   "cell_type": "code",
   "execution_count": 5,
   "metadata": {
    "collapsed": false
   },
   "outputs": [
    {
     "name": "stdout",
     "output_type": "stream",
     "text": [
      "[(2002, 22), (2003, 18), (2004, 16), (2011, 16), (1997, 13), (2005, 10), (2009, 10), (2012, 8), (2014, 8), (2015, 8)]\n"
     ]
    }
   ],
   "source": [
    "# Sorting the dictionary in descending order of frequency\n",
    "terror_dict_sorted = sorted(terror_dict.items(), key=operator.itemgetter(1), reverse = True)\n",
    "\n",
    "# Displaying top 10 results\n",
    "print(terror_dict_sorted[:10])"
   ]
  },
  {
   "cell_type": "code",
   "execution_count": 6,
   "metadata": {
    "collapsed": false
   },
   "outputs": [],
   "source": [
    "y_values = [x[1] for x in terror_dict_sorted[:10]] # Storing top 10 frequencies to be used for y-axis\n",
    "x_values = [y[0] for y in terror_dict_sorted[:10]] # Storing top 10 frequencies to be used for y-axis"
   ]
  },
  {
   "cell_type": "code",
   "execution_count": 7,
   "metadata": {
    "collapsed": false
   },
   "outputs": [
    {
     "data": {
      "image/png": "[encoded data removed]",
      "text/plain": [
       "<matplotlib.figure.Figure at 0x2085a8a2b38>"
      ]
     },
     "metadata": {},
     "output_type": "display_data"
    }
   ],
   "source": [
    "fig = plt.figure() # Calling the figure function from matplotlib module\n",
    "ax = fig.add_subplot(111) # Creating a subplot\n",
    "ax.set_title(\"Top Ten Count of Terrorism publications for past 20 Years\") # Setting up the title for plot\n",
    "\n",
    "width = .35 # Setting the width between each element of histogram\n",
    "ind = np.arange(len(y_values)) # Arranging the frequencies on y axis\n",
    "plt.bar(ind, y_values, width=width) # Plotting the chart\n",
    "plt.xticks(ind + width / 2, x_values) # Displaying the tick in the middle on x axis\n",
    "\n",
    "fig.autofmt_xdate() # Formatting the x axis to make values readable\n",
    "\n",
    "# Creating a path to store the created chart\n",
    "save_path = os.path.expanduser('~\\\\midterm\\\\que2\\\\ana_3\\\\Top Ten Count of Terrorism publications.pdf')\n",
    "\n",
    "plt.savefig(save_path) # Saving the chart to desired location\n",
    "\n",
    "plt.show() # Displaying the chart"
   ]
  }
 ],
 "metadata": {
  "anaconda-cloud": {},
  "kernelspec": {
   "display_name": "Python [conda root]",
   "language": "python",
   "name": "conda-root-py"
  },
  "language_info": {
   "codemirror_mode": {
    "name": "ipython",
    "version": 3
   },
   "file_extension": ".py",
   "mimetype": "text/x-python",
   "name": "python",
   "nbconvert_exporter": "python",
   "pygments_lexer": "ipython3",
   "version": "3.5.2"
  }
 },
 "nbformat": 4,
 "nbformat_minor": 1
}
