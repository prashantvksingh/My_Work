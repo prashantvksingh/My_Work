{
 "cells": [
  {
   "cell_type": "markdown",
   "metadata": {
    "collapsed": true
   },
   "source": [
    "# Analysis 3\n",
    "- Read all emails of the CEO Kenneth Lay\n",
    "- Created a list containing words normally used in a request for a refund\n",
    "- Tokenized the Subject in CEO's email and compared each word with plea word\n",
    "- If 50% of the plea words are present in email subject then considered that mail as a plea request\n",
    "- Displayed a sample list of 10 people who mailed CEO for refund"
   ]
  },
  {
   "cell_type": "code",
   "execution_count": 1,
   "metadata": {
    "collapsed": true
   },
   "outputs": [],
   "source": [
    "# Prepared a list for convicts\n",
    "import os\n",
    "import re\n",
    "import nltk\n",
    "import time\n",
    "import datetime\n",
    "import email.utils\n",
    "from email.parser import Parser"
   ]
  },
  {
   "cell_type": "code",
   "execution_count": 4,
   "metadata": {
    "collapsed": false
   },
   "outputs": [],
   "source": [
    "all_employees = ['lay-k'] # Creating a list to store the CEO directory name\n",
    "\n",
    "people_plea_list = [] # Created a list to store name of person who requested for a refund\n",
    "\n",
    "emp_name_list = [] # Creating an empty list which will store employee name and local path for source directory\n",
    "\n",
    "# Creating a list which contains words normally used in a request for a refund\n",
    "plea_list = ['demand', 'donate', 'enron', 'stock', 'sales'] \n",
    "\n",
    "plea_count = 0 # Creating a temporary variable and assigning value 0 to it\n",
    "\n",
    "for emp in all_employees: # Looping through all employees\n",
    "    filepath_emp = '~\\\\midterm\\\\data\\\\enron\\\\maildir\\\\' + emp # Creating path to employee directory\n",
    "    filepath_actual = os.path.expanduser(filepath_emp) # Creating actual path acccording to OS\n",
    "    emp_name_list.append([emp,filepath_actual]) # Populating the list with emp name and their directory path\n",
    "\n",
    "for emp, emp_path in emp_name_list: # Looping through each employee and their directory\n",
    "    for subdir, dirs, files in os.walk(emp_path): # Looping through each files present under directories and sub directories\n",
    "        for file in files: # Looping through each found directories, subdirectories or files\n",
    "            if(file[0] != '.'): # If selected file is a file and not a directory\n",
    "                \n",
    "                try: # Putting whole code in a try except block to catch unwanted errors\n",
    "                    response = open(os.path.join(subdir, file), 'r', errors = 'ignore') # Extracting the email\n",
    "                    email_emp = Parser().parsestr(response.read()) # Parsing the extracted email\n",
    "                \n",
    "                    for x in plea_list: # Looping through each plea word\n",
    "                        # Looping through each word after tokenizing the email subject\n",
    "                        for y in nltk.word_tokenize(email_emp['Subject']): \n",
    "                            if x == y.lower(): # If plea word matches with email subject word\n",
    "                                plea_count = plea_count + 1 # Increment the plea count by 1\n",
    "                    if plea_count > 2: # If 50% of the plea words are present in email subject\n",
    "                        payload = email_emp.get_payload() # Getting the email body\n",
    "                        emailid = email_emp['From'] # Stroing the email id of sender\n",
    "                        email_date = email.utils.parsedate(email_emp['Date']) # Getting the email date\n",
    "                        # Formatting the date in YYYY-MM-DD format\n",
    "                        formatted_date = str(email_date[0]) + '-' + str(email_date[1]) + '-' + str(email_date[2])\n",
    "                        #Capturing the email sender name alongwith email id and sent date of the email in a list\n",
    "                        people_plea_list.append((payload[:payload.find('\\n')], emailid))\n",
    "                    plea_count = 0 # Reassigning the plea count to 0 for outer for loop\n",
    "                \n",
    "                except:\n",
    "                    pass                     \n",
    "                "
   ]
  },
  {
   "cell_type": "code",
   "execution_count": 5,
   "metadata": {
    "collapsed": false
   },
   "outputs": [
    {
     "name": "stdout",
     "output_type": "stream",
     "text": [
      "[('Linda Brunner', 'grnthumb@ipa.netf'), ('alice van leunen', 'avanleunen@msn.com'), ('John-Paul Goorjian', 'comet@starshaper.com'), ('Marietta Anastassatos', 'manastassatos@randomhouse.com'), ('Kimberly Mitchell', 'kmitchel@coba.usf.edu'), ('beth keane betzcat@webtv.net', 'btzcat@webtv.net'), ('Maria Smith', 'muhreuh@yahoo.com'), ('Brenda Carroll', 'brenda.j.carroll@verizon.com'), ('Alyssa Mummert', 'alyssa300@hotmail.com'), ('Susan Kuntz', 'kuntz@geneseo.edu')]\n"
     ]
    }
   ],
   "source": [
    "# Displaying 10 email sender name\n",
    "print(people_plea_list[:10])"
   ]
  }
 ],
 "metadata": {
  "anaconda-cloud": {},
  "kernelspec": {
   "display_name": "Python [conda root]",
   "language": "python",
   "name": "conda-root-py"
  },
  "language_info": {
   "codemirror_mode": {
    "name": "ipython",
    "version": 3
   },
   "file_extension": ".py",
   "mimetype": "text/x-python",
   "name": "python",
   "nbconvert_exporter": "python",
   "pygments_lexer": "ipython3",
   "version": "3.5.2"
  }
 },
 "nbformat": 4,
 "nbformat_minor": 1
}
