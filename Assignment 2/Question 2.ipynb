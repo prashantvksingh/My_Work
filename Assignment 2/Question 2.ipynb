{
 "cells": [
  {
   "cell_type": "markdown",
   "metadata": {},
   "source": [
    "# Question 2\n",
    "- Read all files present under directory 'Data'\n",
    "- Create a directory named 'Data Processed'\n",
    "- Create a directories under 'Data Processed' based on 'term' tag present under each file\n",
    "- Create a hierarchy of directories under each directories created using 'term' tag\n",
    "- Store the files at lowest level of the hierarchy"
   ]
  },
  {
   "cell_type": "code",
   "execution_count": 1,
   "metadata": {
    "collapsed": false
   },
   "outputs": [],
   "source": [
    "# Importing the required modules\n",
    "\n",
    "import glob\n",
    "import json\n",
    "import os\n",
    "import shutil"
   ]
  },
  {
   "cell_type": "code",
   "execution_count": 7,
   "metadata": {
    "collapsed": false,
    "scrolled": true
   },
   "outputs": [],
   "source": [
    "term_value = [] # Creating an empty list which will store the 'term value' present under each file\n",
    "path = 'Data Processed\\\\' # Creating a temp path variable\n",
    "\n",
    "for file in glob.glob('Data\\\\*'): # Reading all files\n",
    "    with open(file) as data_file: # Opening each file\n",
    "        data = json.load(data_file) # Storing all data\n",
    "        term_value.append(data['term']) # Appending only 'term' value to term_value list\n",
    "        \n",
    "unique_term_value = set(term_value) # Creating a list containing unique 'term' values\n",
    "        \n",
    "for p in unique_term_value: # Looping through each unique 'term' values\n",
    "    actual_path = path+p # Creating a path variable where 'term' directories should be created\n",
    "    os.makedirs(actual_path, exist_ok=True) # Creating 'term' directories"
   ]
  },
  {
   "cell_type": "code",
   "execution_count": 8,
   "metadata": {
    "collapsed": false
   },
   "outputs": [],
   "source": [
    "for term in unique_term_value: # Looping through each 'term' value\n",
    "    for file in glob.glob('Data\\\\*'): # Reading all files \n",
    "        with open(file) as data_file: # Opening each file    \n",
    "            data = json.load(data_file) # Storing all data\n",
    "            source_file_path = 'Data\\\\'+file[5:] # Creating source path\n",
    "            destination_file_path = path+term+'\\\\'+file[5:] # Creating target path\n",
    "            if data['term'] == term: # Checking for 'term' value in each file\n",
    "                shutil.copyfile(source_file_path, destination_file_path) # Copying the file to respective 'term' directory\n",
    "                "
   ]
  },
  {
   "cell_type": "code",
   "execution_count": 9,
   "metadata": {
    "collapsed": false,
    "scrolled": true
   },
   "outputs": [],
   "source": [
    "target_paths = [] # Creating an empty list which will store the 'term' directories path\n",
    "\n",
    "for p in unique_term_value: # Looping through each 'term' value\n",
    "    temp = path+p+'\\\\*' # Creating the 'term' directories path\n",
    "    target_paths.append(temp) # Appending the path to the target_paths"
   ]
  },
  {
   "cell_type": "code",
   "execution_count": 10,
   "metadata": {
    "collapsed": false
   },
   "outputs": [],
   "source": [
    "for p in target_paths: # Looping through each 'term' directories path\n",
    "    for file in glob.glob(p): # Reading all files under 'term' directories path\n",
    "        with open(file) as data_file: # Opening each file   \n",
    "            country_data = json.load(data_file) # Storing all data\n",
    "            \n",
    "            country_path = p.replace('*','') + country_data['location']['country'] # Preparing path for 1st level of hierarchy\n",
    "            state_path = country_path + '\\\\' + country_data['location']['state'] # Preparing path for 2nd level of hierarchy\n",
    "            city_path = state_path + '\\\\' + country_data['location']['city'] # Preparing path for 3rd level of hierarchy\n",
    "            os.makedirs(city_path, exist_ok=True) # Creating hierarchy. Each level directories will be created recursively\n",
    "            \n",
    "            source_file_path = 'Data\\\\' + file[len(p)-1:] # Preparing path for source file\n",
    "            destination_file_path = city_path + '\\\\' + file[len(p)-1:] # Preparing target path for source file           \n",
    "            shutil.copy(source_file_path, destination_file_path) # Copying files to lowest level of hierarchy"
   ]
  },
  {
   "cell_type": "code",
   "execution_count": 11,
   "metadata": {
    "collapsed": false
   },
   "outputs": [],
   "source": [
    "for p in target_paths: # Looping through each 'term' directories path\n",
    "    folder = p.replace('*','') # Removing * from each 'term' directories path\n",
    "    for the_file in os.listdir(folder): # Reading each file present under 'folder' path\n",
    "        file_path = os.path.join(folder, the_file) # Preparing complete path alonwith filename\n",
    "        try:\n",
    "            if os.path.isfile(file_path): # Checking if its a file\n",
    "                os.unlink(file_path) # Removing the file from the 'folder' directory\n",
    "            #elif os.path.isdir(file_path): shutil.rmtree(file_path)\n",
    "        except Exception as e: # If any exception\n",
    "            print(e) # Print that exception"
   ]
  }
 ],
 "metadata": {
  "anaconda-cloud": {},
  "kernelspec": {
   "display_name": "Python [conda root]",
   "language": "python",
   "name": "conda-root-py"
  },
  "language_info": {
   "codemirror_mode": {
    "name": "ipython",
    "version": 3
   },
   "file_extension": ".py",
   "mimetype": "text/x-python",
   "name": "python",
   "nbconvert_exporter": "python",
   "pygments_lexer": "ipython3",
   "version": "3.5.2"
  }
 },
 "nbformat": 4,
 "nbformat_minor": 1
}
