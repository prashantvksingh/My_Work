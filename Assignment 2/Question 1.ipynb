{
 "cells": [
  {
   "cell_type": "markdown",
   "metadata": {},
   "source": [
    "# Question 1\n",
    "- Learn and Understand Zipf's Law\n",
    "- Read a set of files from NLTK corpus\n",
    "- Calculate frequency of each word in the files read from NLTK corpus\n",
    "- Provide rank based on frequency of each word\n",
    "- Write the words alongwith their frequency and ranks in a csv file\n",
    "- Read the written csv file\n",
    "- Plot a log-log graph to prove Zipf's Law\n",
    "- Display conclusion based on the graph plotted"
   ]
  },
  {
   "cell_type": "code",
   "execution_count": 16,
   "metadata": {
    "collapsed": false
   },
   "outputs": [],
   "source": [
    "# Importing the required packages and modules\n",
    "\n",
    "from nltk.corpus import inaugural as aug\n",
    "import matplotlib.pyplot as plt\n",
    "from math import log10\n",
    "import operator\n",
    "import glob\n",
    "import csv\n",
    "import re"
   ]
  },
  {
   "cell_type": "code",
   "execution_count": 17,
   "metadata": {
    "collapsed": false
   },
   "outputs": [],
   "source": [
    "complete_words = [] # Creating an empty list which will store sublists of words \n",
    "all_words = [] # Creating an empty list which will store all words from complete_words list\n",
    "\n",
    "for file in glob.glob('C:\\\\nltk_data\\\\corpora\\inaugural\\\\*Roosevelt*'): # Looping through all Roosevelt files\n",
    "    complete_words.append(aug.words(fileids=[file])) # For each Roosevelt files appending sublists of words\n",
    "\n",
    "for x in complete_words: # Looping through all sublists of words\n",
    "    for y in x: # Looping through each list in complete_words\n",
    "        all_words.append(y) # Appending each word to the all_words\n",
    "\n",
    "only_alphanumeric = [x for x in all_words if re.search('[a-zA-Z0-9]', x)] # Filtering all punctuations "
   ]
  },
  {
   "cell_type": "code",
   "execution_count": 18,
   "metadata": {
    "collapsed": false
   },
   "outputs": [],
   "source": [
    "Words_Frequency = {} # Creating an empty dictionary\n",
    "Word_count = 0 # Creating and assigning value to a count variable\n",
    "unique_words_lambda = lambda x: set(x) # Creating a lambda function to return unique values from a list\n",
    "# Creating a list which stores all unique words from words present in 'all_words' list\n",
    "new_list1 = unique_words_lambda([x1.lower() for x1 in only_alphanumeric])\n",
    "# Creating a list which stores all words from words present in 'all_words' list\n",
    "new_list2 = [x2.lower() for x2 in only_alphanumeric] \n",
    "\n",
    "for x in new_list1: # Looping through all unique words\n",
    "    for y in new_list2: # Looping through all words\n",
    "        if x == y:\n",
    "            Word_count = Word_count + 1 # Increamenting the count variable by 1 when if condition succeeds\n",
    "\n",
    "    Words_Frequency.update({x:Word_count}) # Adding word alongwith its total frequency in the dictionary\n",
    "    Word_count = 0 # Reassiging the count variable to 0 for next run of the outer for loop"
   ]
  },
  {
   "cell_type": "code",
   "execution_count": 10,
   "metadata": {
    "collapsed": false
   },
   "outputs": [],
   "source": [
    "# Sorting the dictionary value\n",
    "sorted_words = sorted(Words_Frequency.items(), key=operator.itemgetter(1), reverse = True) "
   ]
  },
  {
   "cell_type": "code",
   "execution_count": 19,
   "metadata": {
    "collapsed": false
   },
   "outputs": [],
   "source": [
    "def rankfunc(sorted_tuple_list): # Creating a function to add rank number to the sorted tuples in sorted_words\n",
    "    rank = 0 # Creating a dummy variable having 0 as its value\n",
    "    skip = 0 # Creating a dummy variable having 0 as its value\n",
    "    prev = None # Creating a dummy variable having None as its value\n",
    "\n",
    "    sorted_rank_tuple_list = [] # Creating an empty list which will store sorted tuples alongwith its rank number\n",
    "    for word, frequency in sorted_tuple_list: #Looping through each sorted tuple\n",
    "        if frequency == prev: # Checking if the current frequency equals to previous frequency\n",
    "            skip += 1 # If Yes, then increment the skip variable value by 1\n",
    "        else:\n",
    "            # If current frequency not equals to previous frequency then current rank number is equal \n",
    "            # to previous rank plus skip variable count plus 1\n",
    "            rank += skip + 1  \n",
    "            skip = 0 # Reassigning skip variable to 0 for next run of the for loop\n",
    "\n",
    "        sorted_rank_tuple_list.append((word, frequency, rank)) # Appending sorted value and its rank number\n",
    "        prev = frequency # Assigning current frequency to prev variable for next run of for loop\n",
    "    return sorted_rank_tuple_list # Returning the full ranked tuple list\n",
    "    \n",
    "sorted_rank_words = rankfunc(sorted_words) # Calling the rankfunc() by providing sorted_words list as argument"
   ]
  },
  {
   "cell_type": "code",
   "execution_count": 20,
   "metadata": {
    "collapsed": false,
    "scrolled": true
   },
   "outputs": [],
   "source": [
    "with open('zipfslaw.csv','w', newline='') as out: # Opening a file in write mode\n",
    "    csv_out=csv.writer(out) # Calling the writer function on opened file\n",
    "    csv_out.writerow(['Word','Frequency','Rank']) # Using writer function writing the TITLE row\n",
    "    for row in sorted_rank_words: # Looping through each tuple in sorted_rank_words list\n",
    "        csv_out.writerow(row) # Writing each tuple as a row to the opened file"
   ]
  },
  {
   "cell_type": "code",
   "execution_count": 21,
   "metadata": {
    "collapsed": false
   },
   "outputs": [],
   "source": [
    "r = csv.reader(open('zipfslaw.csv')) # Reading the previously written file\n",
    "actual_lines = [l for l in r] # Storing each row as a sublist"
   ]
  },
  {
   "cell_type": "code",
   "execution_count": 22,
   "metadata": {
    "collapsed": false
   },
   "outputs": [],
   "source": [
    "frequency_list = [x[1] for x in actual_lines if re.search('[0-9]', x[1])] # Fetching all frequency eliminating TITLE value\n",
    "\n",
    "rank_list = [x[2] for x in actual_lines if re.search('[0-9]', x[2])] # Fetching all ranks eliminating TITLE value"
   ]
  },
  {
   "cell_type": "code",
   "execution_count": 23,
   "metadata": {
    "collapsed": false
   },
   "outputs": [
    {
     "data": {
      "image/png": "[encoded data removed]",
      "text/plain": [
       "<matplotlib.figure.Figure at 0x19150a78908>"
      ]
     },
     "metadata": {},
     "output_type": "display_data"
    },
    {
     "name": "stdout",
     "output_type": "stream",
     "text": [
      "Conclusion: Zipf's Law works on Natural Language as slope is close to -1\n"
     ]
    }
   ],
   "source": [
    "# Creating a function to create and display log-log plot using matplotlib\n",
    "def zipfslawplotfunc(rank, frequency, xlowlimit, xhighlimit, ylowlimit, yhighlimit):\n",
    "    fig = plt.figure() # Calling the figure function to plot log-log graph\n",
    "    ax = fig.add_subplot(111) # Calling the plot builder function add_subplot within figure function\n",
    "    ax.set_xscale(\"log\") # Setting the x-axis to store log values of each rank\n",
    "    ax.set_yscale(\"log\") # Setting the y-axis to store log values of each frequency\n",
    "    ax.set_xlim(xlowlimit, xhighlimit) # Setting the upper and lower limit for x-axis\n",
    "    ax.set_ylim(ylowlimit, yhighlimit) # Setting the upper and lower limit for y-axis\n",
    "    ax.set_aspect(1)\n",
    "    ax.set_title(\"Calculation Results\") # Setting the title for log-log plot\n",
    "\n",
    "    ax.plot(rank, frequency, \"o-\") # Plotting the log-log graph\n",
    "    plt.show() # Displaying the log-log plot\n",
    "\n",
    "# Calling the zipfslawplotfunc function by providing rank list, frequency list, x lower limit, x higher limit,\n",
    "# y lower limit, y higher limit as argument\n",
    "zipfslawplotfunc(rank_list, frequency_list, 0.3, 1e4, 0.3, 1e4) \n",
    "print(\"Conclusion: Zipf's Law works on Natural Language as slope is close to -1\") # Displaying the conclusion"
   ]
  }
 ],
 "metadata": {
  "anaconda-cloud": {},
  "kernelspec": {
   "display_name": "Python [conda root]",
   "language": "python",
   "name": "conda-root-py"
  },
  "language_info": {
   "codemirror_mode": {
    "name": "ipython",
    "version": 3
   },
   "file_extension": ".py",
   "mimetype": "text/x-python",
   "name": "python",
   "nbconvert_exporter": "python",
   "pygments_lexer": "ipython3",
   "version": "3.5.2"
  }
 },
 "nbformat": 4,
 "nbformat_minor": 1
}
