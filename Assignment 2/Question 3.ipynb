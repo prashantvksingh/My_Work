{
 "cells": [
  {
   "cell_type": "markdown",
   "metadata": {},
   "source": [
    "# Question 3\n",
    "- Read all restaurants file\n",
    "- Read the 'open' tag\n",
    "- Create an excel file storing each restaurant's open and close timing for each day\n",
    "- Create an excel file storing each restaurant's open and close timing in hours, minutes form for each day"
   ]
  },
  {
   "cell_type": "code",
   "execution_count": 39,
   "metadata": {
    "collapsed": true
   },
   "outputs": [],
   "source": [
    "# Import all required modules\n",
    "\n",
    "import glob\n",
    "import json\n",
    "import csv\n",
    "import xlwt"
   ]
  },
  {
   "cell_type": "code",
   "execution_count": 47,
   "metadata": {
    "collapsed": false
   },
   "outputs": [],
   "source": [
    " # Creating a list with TITLE which will store all restaurants 'open' values\n",
    "open_value = [['Name of Restaurant','City','Country Code','Day of week','Start Time','End Time']]\n",
    "\n",
    "for file in glob.glob('Data\\\\*'): # Reading all files\n",
    "    with open(file) as data_file: # Opening each file   \n",
    "        data = json.load(data_file) # Storing all data\n",
    "        if data['term'] == 'restaurants': # Checking if the file is a restaurant file\n",
    "            if 'hours' in data.keys(): # Checking if hours is present in the file as some file have no hours data\n",
    "                for x in (data['hours'][0]['open']): # Looping through each day's value\n",
    "                    # Appending each day's value to open_value list\n",
    "                    open_value.append([data['name'], data['location']['city'], data['location']['country'], \n",
    "                                       x.get('day'), x.get('start'), x.get('end')])\n",
    "            else: # If hours is not present then providing default values to day, open and end time\n",
    "                open_value.append([data['name'], data['location']['city'], data['location']['country'], \n",
    "                                       'NA', 'NA', 'NA'])"
   ]
  },
  {
   "cell_type": "code",
   "execution_count": 41,
   "metadata": {
    "collapsed": false
   },
   "outputs": [],
   "source": [
    "def excel_writer(): # Defining a function to write data to an excel file\n",
    "    xldoc1 = xlwt.Workbook(encoding=\"utf-8\") # Opening an excel file\n",
    "    sheet1 = xldoc1.add_sheet(\"Sheet1\", cell_overwrite_ok=True) # Creating a sheet in excel file\n",
    "    for i, l in enumerate(open_value): # Looping through element(which is a sublist) and its index\n",
    "        for j, col in enumerate(l): # Looping through each element and its index\n",
    "            sheet1.write(i, j, col) # Writing element to the excel sheet\n",
    "    xldoc1.save('Restaurant_Timing.xls') # Saving the excel sheet\n",
    "    \n",
    "excel_writer() # Calling the excel_writer function"
   ]
  },
  {
   "cell_type": "code",
   "execution_count": 48,
   "metadata": {
    "collapsed": false
   },
   "outputs": [],
   "source": [
    "# Creating an empty list which will store all restaurants 'open' values in hours, minutes form\n",
    "open_values_extended = [['Name of Restaurant','City','Country Code','Day of week','Start Time Hour',\n",
    "                         'Start Time Minute','End Time Hour','End Time Minute']]\n",
    "\n",
    "for x in open_value[1:]: # Looping through each sublist in open_value\n",
    "    if 'NA' in x: \n",
    "        open_values_extended.append([x[0],x[1],x[2],x[3],'NA','NA','NA','NA']) # Extending the default values\n",
    "    else:\n",
    "        open_values_extended.append([x[0],x[1],x[2],x[3],x[4][:2], x[4][2:], x[5][:2], x[5][2:]]) # Extending for hours, minutes   "
   ]
  },
  {
   "cell_type": "code",
   "execution_count": 49,
   "metadata": {
    "collapsed": false,
    "scrolled": false
   },
   "outputs": [],
   "source": [
    "def excel_writer_extended(): # Defining a function to write data to an excel file\n",
    "    xldoc2 = xlwt.Workbook(encoding=\"utf-8\") # Opening an excel file\n",
    "    sheet2 = xldoc2.add_sheet(\"Sheet1\", cell_overwrite_ok=True) # Creating a sheet in excel file\n",
    "    for i, l in enumerate(open_values_extended): # Looping through element(which is a sublist) and its index\n",
    "        for j, col in enumerate(l): # Looping through each element and its index\n",
    "            sheet2.write(i, j, col) # Writing element to the excel sheet\n",
    "    xldoc2.save('Restaurant_Timing_Extended.xls') # Saving the excel sheet\n",
    "    \n",
    "excel_writer_extended() # Calling the excel_writer_extended function"
   ]
  }
 ],
 "metadata": {
  "anaconda-cloud": {},
  "kernelspec": {
   "display_name": "Python [conda root]",
   "language": "python",
   "name": "conda-root-py"
  },
  "language_info": {
   "codemirror_mode": {
    "name": "ipython",
    "version": 3
   },
   "file_extension": ".py",
   "mimetype": "text/x-python",
   "name": "python",
   "nbconvert_exporter": "python",
   "pygments_lexer": "ipython3",
   "version": "3.5.2"
  }
 },
 "nbformat": 4,
 "nbformat_minor": 1
}
