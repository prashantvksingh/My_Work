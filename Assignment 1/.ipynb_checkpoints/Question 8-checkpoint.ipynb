{
 "cells": [
  {
   "cell_type": "markdown",
   "metadata": {},
   "source": [
    "# Question 8"
   ]
  },
  {
   "cell_type": "markdown",
   "metadata": {},
   "source": [
    "# Question 8\n",
    "- Read all contents from nps_chat and words corpora\n",
    "- List all words from nps_chat and words corpora\n",
    "- Compare words from nps_chat with words from corpora\n",
    "- Display all words from nps_chat corpora that are not present in words corpora\n",
    "- Display emoticons and their count"
   ]
  },
  {
   "cell_type": "code",
   "execution_count": 1,
   "metadata": {
    "collapsed": false
   },
   "outputs": [],
   "source": [
    "import re\n",
    "from nltk.corpus import nps_chat, words"
   ]
  },
  {
   "cell_type": "code",
   "execution_count": 2,
   "metadata": {
    "collapsed": false
   },
   "outputs": [],
   "source": [
    "full_chat = nps_chat.posts() # Storing full chats in a list\n",
    "\n",
    "# Creating a list containing all unique words under words package in lowercase \n",
    "normal_words = [x.lower() for x in set(words.words())] "
   ]
  },
  {
   "cell_type": "code",
   "execution_count": 3,
   "metadata": {
    "collapsed": false,
    "scrolled": false
   },
   "outputs": [
    {
     "name": "stdout",
     "output_type": "stream",
     "text": [
      "['now', 'im', 'left', 'with', 'this', 'gay', 'name', ':P', 'PART', 'hey', 'everyone', 'ah', 'well', 'NICK', ':', 'U7', 'U7', 'is', 'a', 'gay', 'name', '.', '.', 'ACTION', 'gives', 'U121', 'a', 'golf', 'clap', '.', ':)', 'JOIN', 'hi', 'U59', '26', '/', 'm', '/', 'ky', 'women', 'that', 'are', 'nice', 'please', 'pm', 'me', 'JOIN', 'PART', 'there', 'ya']\n"
     ]
    }
   ],
   "source": [
    "complete_list = [] # Creating an empty list to store all words from full_chat as within full_chat each chat is in a list\n",
    "for x in full_chat: #Looping through full_chat\n",
    "    for y in x: # Looping through each list under full_chat\n",
    "        complete_list.append(y) # Appending words to the list\n",
    "print(complete_list[:50]) # Displaying all words in complete_list "
   ]
  },
  {
   "cell_type": "code",
   "execution_count": 4,
   "metadata": {
    "collapsed": false
   },
   "outputs": [],
   "source": [
    "# Creating a list containing only alphanumeric content from complete_list in lowercase\n",
    "cleaned_list = [y.lower() for y in [x for x in complete_list if x.isalnum()]]\n",
    "unique_cleaned_list = set(cleaned_list) # Creating a list containing only unique words in cleaned_list"
   ]
  },
  {
   "cell_type": "code",
   "execution_count": 5,
   "metadata": {
    "collapsed": false
   },
   "outputs": [],
   "source": [
    "unusual_word_list = [] # Creating an empty list to store unusual words\n",
    "word_count = 0 # Creating a count variable and assigning value 0 to it\n",
    "for x in unique_cleaned_list: # Looping through unique words obtained from full_chat\n",
    "    for y in normal_words: # Looping through all words in normal_words\n",
    "        if x == y: # Evaluating whether word is a normal word or unusual word\n",
    "            word_count = word_count + 1 # If normal word then incrementing the count\n",
    "    if(word_count < 1): # If count is 0 then word is unusual and add that to unusual list\n",
    "        unusual_word_list.append(x)\n",
    "    word_count = 0 # Reassigning count to 0 for outer for loop\n",
    "unique_words = set(unusual_word_list) # Creating a list containing all unique unusual words"
   ]
  },
  {
   "cell_type": "code",
   "execution_count": 6,
   "metadata": {
    "collapsed": false
   },
   "outputs": [
    {
     "name": "stdout",
     "output_type": "stream",
     "text": [
      "['huggs', 'shocked', 'nz', 'screach', 'fractured', 'remembers', 'makes', 'tips', 'superhiway', 'peppersteak', 'whered', 'trippin', 'proud', 'rarly', 'tjhe', 'uuuhhh', 'heya', 'smokes', 'settles', 'hellos', 'fails', 'dawg', 'stinky', 'pineapples', 'ooh', 'giggles', 'rumours', 'necromancers', 'questioned', 'fries', 'jacking', 'ignoring', 'suffers', 'nyone', 'tah', 'wears', 'shocks', 'tosses', '2day', 'ssri', 'nudes', 'rothlisburger', 'eyes', 'frags', 'yeee', 'goodbye', 'shhhh', 'actualy', 'bumped', 'wher']\n"
     ]
    }
   ],
   "source": [
    "# Creating a list containing all unusual word which are not usernames\n",
    "final_list = [x for x in unique_words if re.search('^.[a-z]+$', x)]\n",
    "print(final_list[:50]) # Print unusual words"
   ]
  },
  {
   "cell_type": "code",
   "execution_count": 7,
   "metadata": {
    "collapsed": false
   },
   "outputs": [
    {
     "name": "stdout",
     "output_type": "stream",
     "text": [
      "[':)', ':)', ':)', ':)', ':)', ':)', ':(', ':)', ':)', ':)', ':)', ':)', ':)', ':)', ':)', ':)', ':)', ':)', ':)', ':)', ':)', ':)', ':)', ':)', ':)', ':(', ':)', ':)', ':)', ':)', ':)', ':)', ':)', ':)', ':)', ':)', ':)', ':)', ':)', ':)', ':)', ':)', ':)', ':)', ':)', ':)', ':)', ':)', ':)', ':)', ':)', ':)', ':)', ':)', ':)', ':)', ':)', ':)', ':)', ':)', ':)', ':)', ':)', ':)', ':(', ':)', ':)', ':)', ':)', ':)', ':(', ':)', ':)', ':)', ':)', ':)', ':)', ':(', ':)', ':)', ':)', ':)', ':)', ':)', ':)', ':)', ':)', ':)', ':)', ':)', ':)', ':)', ':)', ':)', ':)', ':)', ':)', ':)', ':)', ':)', ':)', ':)', ':)', ':)', ':(', ':(', ':(', ':)', ':(', ':)']\n",
      "Total number of :) emoticons are:  101\n",
      "Total number of :( emoticons are:  9\n"
     ]
    }
   ],
   "source": [
    "# Creating a list containing all emoticons\n",
    "emoti_list = [x for x in complete_list if re.search('^:[(, )]+$', x)]\n",
    "print(emoti_list) # Print emoticons\n",
    "\n",
    "a = 0\n",
    "b = 0\n",
    "for x in emoti_list:\n",
    "    a = a + x.count(':)')\n",
    "    b = b + x.count(':(')\n",
    "print('Total number of :) emoticons are: ', a)\n",
    "print('Total number of :( emoticons are: ', b)"
   ]
  }
 ],
 "metadata": {
  "anaconda-cloud": {},
  "kernelspec": {
   "display_name": "Python [conda root]",
   "language": "python",
   "name": "conda-root-py"
  },
  "language_info": {
   "codemirror_mode": {
    "name": "ipython",
    "version": 3
   },
   "file_extension": ".py",
   "mimetype": "text/x-python",
   "name": "python",
   "nbconvert_exporter": "python",
   "pygments_lexer": "ipython3",
   "version": "3.5.2"
  }
 },
 "nbformat": 4,
 "nbformat_minor": 1
}
