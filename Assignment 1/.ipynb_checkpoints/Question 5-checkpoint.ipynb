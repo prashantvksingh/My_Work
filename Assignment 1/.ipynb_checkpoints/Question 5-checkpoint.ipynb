{
 "cells": [
  {
   "cell_type": "markdown",
   "metadata": {},
   "source": [
    "# Question 5\n",
    "- List all Shakespeare words from gutenberg corpora\n",
    "- List all words from web_text corpora\n",
    "- Display top 5 words that Shakespeare used but are not used today\n",
    "- Display top 50 Shakespeare and web_text words\n",
    "- Remove punctuation, stop words from Shakespeare and web_text words\n",
    "- Display Shakespeare and web_text words after eliminating punctuation, stop words"
   ]
  },
  {
   "cell_type": "code",
   "execution_count": 1,
   "metadata": {
    "collapsed": false
   },
   "outputs": [],
   "source": [
    "from nltk.corpus import webtext, gutenberg, stopwords\n",
    "import operator"
   ]
  },
  {
   "cell_type": "code",
   "execution_count": 2,
   "metadata": {
    "collapsed": false
   },
   "outputs": [],
   "source": [
    "web_full_words = [x for x in webtext.words() if x.isalnum()] # Creating a list containing all alphanumric web words\n",
    "web_full_words_lowercase = [y.lower() for y in web_full_words] # Creating a list containing all alphanumric web words in lowercase\n",
    "\n",
    "web_full_words_unique = [x for x in set(webtext.words()) if x.isalnum()] # Creating a list containing all unique alphanumric web words\n",
    "web_full_words_lowercase_unique = [y.lower() for y in web_full_words_unique] # Creating a list containing all unique alphanumric web words in lowercase"
   ]
  },
  {
   "cell_type": "code",
   "execution_count": 3,
   "metadata": {
    "collapsed": false
   },
   "outputs": [],
   "source": [
    "# Creating a list containing all alphanumric shakespeare's words\n",
    "shakespear_full_words = [x for x in gutenberg.words(fileids=['shakespeare-macbeth.txt', 'shakespeare-caesar.txt', 'shakespeare-hamlet.txt']) if x.isalnum()]\n",
    "# Creating a list containing all alphanumric shakespeare's words in lowercase\n",
    "shakespear_full_words_lowercase = [y.lower() for y in shakespear_full_words]\n",
    "\n",
    "# Creating a list containing all unique alphanumric shakespeare's words\n",
    "shakespear_full_words_unique = [x for x in set(gutenberg.words(fileids=['shakespeare-macbeth.txt', 'shakespeare-caesar.txt', 'shakespeare-hamlet.txt'])) if x.isalnum()]\n",
    "# Creating a list containing all unique alphanumric shakespeare's words in lowercase\n",
    "shakespear_full_words_lowercase_unique = [y.lower() for y in shakespear_full_words_unique]"
   ]
  },
  {
   "cell_type": "code",
   "execution_count": 4,
   "metadata": {
    "collapsed": false
   },
   "outputs": [],
   "source": [
    "top_shakespear_words = [] # Creating an empty list to store all words that shakespeare used but we don't use today\n",
    "word_count = 0 # Assigning a count variable to 0\n",
    "for x in shakespear_full_words_lowercase_unique: # Looping through all shakespeare's words\n",
    "    for y in web_full_words_lowercase_unique: # Looping through all web words\n",
    "        if x == y: # Checking if shakespeare's words is same as web words\n",
    "            word_count = word_count + 1 # Incrementing count value if there is a match\n",
    "    if word_count < 1: # If there is not a match then count will be 0 so adding these words to top_shakespear_words\n",
    "        top_shakespear_words.append(x)\n",
    "    word_count = 0 # Reassigning count to 0 for outer for loop"
   ]
  },
  {
   "cell_type": "code",
   "execution_count": 5,
   "metadata": {
    "collapsed": false,
    "scrolled": false
   },
   "outputs": [],
   "source": [
    "# Creating an empty dictionary to store all words and their frequency that shakespeare used but we don't use today\n",
    "top_shakespear_words_frequency = {} \n",
    "shakespear_word_count = 0 # Assigning a count variable to 0\n",
    "for x in top_shakespear_words: # Looping through all words that shakespeare used but we don't use today\n",
    "    for y in shakespear_full_words_lowercase: # Looping through all shakespeare words\n",
    "        if x == y: # If there is a match then we are incrementing the count variable\n",
    "            shakespear_word_count = shakespear_word_count + 1\n",
    "    top_shakespear_words_frequency.update({x:shakespear_word_count}) # Adding words and their frequency to dictionary\n",
    "    shakespear_word_count = 0 # Reassigning count to 0 for outer for loop"
   ]
  },
  {
   "cell_type": "code",
   "execution_count": 6,
   "metadata": {
    "collapsed": false
   },
   "outputs": [
    {
     "name": "stdout",
     "output_type": "stream",
     "text": [
      "[('haue', 448), ('vpon', 162), ('brutus', 162), ('bru', 153), ('hath', 144)]\n"
     ]
    }
   ],
   "source": [
    "# Sorting all words that shakespeare used but we don't use today based on their frequency in descending order\n",
    "top_five_shakespear_words = sorted(top_shakespear_words_frequency.items(), key=operator.itemgetter(1), reverse = True)\n",
    "print(top_five_shakespear_words[:5]) # Displaying the top  words and their frequency that shakespeare used but we don't use today"
   ]
  },
  {
   "cell_type": "code",
   "execution_count": 7,
   "metadata": {
    "collapsed": false
   },
   "outputs": [],
   "source": [
    "# Creating an empty dictionary to store all words and their frequency that shakespeare used\n",
    "top_fifty_shakespear_words_frequency = {} \n",
    "shakespear_top_word_count = 0  # Assigning a count variable to 0\n",
    "for x in shakespear_full_words_lowercase_unique: # looping through all unique words that shakespeare used\n",
    "    for y in shakespear_full_words_lowercase: # looping through all words that shakespeare used\n",
    "        if x == y: # If there is a match then we are incrementing the count variable\n",
    "            shakespear_top_word_count = shakespear_top_word_count + 1\n",
    "    top_fifty_shakespear_words_frequency.update({x:shakespear_top_word_count}) # Adding words and their frequency to dictionary\n",
    "    shakespear_top_word_count = 0 # Reassigning count to 0 for outer for loop"
   ]
  },
  {
   "cell_type": "code",
   "execution_count": 8,
   "metadata": {
    "collapsed": false
   },
   "outputs": [
    {
     "name": "stdout",
     "output_type": "stream",
     "text": [
      "[('the', 2222), ('and', 2036), ('to', 1515), ('i', 1455), ('of', 1302), ('you', 1124), ('a', 1019), ('my', 914), ('that', 904), ('in', 826), ('it', 778), ('is', 769), ('not', 722), ('d', 662), ('his', 588), ('with', 557), ('this', 546), ('for', 533), ('me', 529), ('your', 528), ('but', 510), ('he', 491), ('be', 476), ('what', 458), ('haue', 448), ('him', 434), ('as', 427), ('so', 424), ('will', 384), ('our', 346), ('ham', 337), ('all', 321), ('thou', 312), ('we', 306), ('are', 305), ('s', 303), ('shall', 300), ('no', 297), ('lord', 293), ('do', 287), ('then', 278), ('on', 276), ('by', 256), ('if', 243), ('come', 232), ('king', 231), ('enter', 230), ('they', 225), ('good', 218), ('let', 217)]\n"
     ]
    }
   ],
   "source": [
    "# Sorting all words that shakespeare used based on their frequency in descending order\n",
    "top_fifty_shakespear_words = sorted(top_fifty_shakespear_words_frequency.items(), key=operator.itemgetter(1), reverse = True)\n",
    "print(top_fifty_shakespear_words[:50]) # Displaying the top 50 words and their frequency that shakespeare used"
   ]
  },
  {
   "cell_type": "code",
   "execution_count": 9,
   "metadata": {
    "collapsed": false
   },
   "outputs": [],
   "source": [
    "# Creating an empty dictionary to store all words and their frequency that webtext has\n",
    "top_fifty_web_words_frequency = {} \n",
    "web_top_word_count = 0 # Assigning a count variable to 0\n",
    "for x in web_full_words_lowercase_unique: # looping through all unique words that webtext has\n",
    "    for y in web_full_words_lowercase: # looping through all words that webtext has \n",
    "        if x == y: # If there is a match then we are incrementing the count variable\n",
    "            web_top_word_count = web_top_word_count + 1 \n",
    "    top_fifty_web_words_frequency.update({x:web_top_word_count}) # Adding words and their frequency to dictionary\n",
    "    web_top_word_count = 0 # Reassigning count to 0 for outer for loop"
   ]
  },
  {
   "cell_type": "code",
   "execution_count": 10,
   "metadata": {
    "collapsed": false,
    "scrolled": true
   },
   "outputs": [
    {
     "name": "stdout",
     "output_type": "stream",
     "text": [
      "[('i', 7925), ('the', 7909), ('to', 6325), ('a', 6199), ('you', 5812), ('and', 4516), ('in', 4293), ('t', 3547), ('it', 3385), ('s', 3320), ('on', 3281), ('of', 3186), ('is', 3024), ('girl', 2956), ('that', 2792), ('guy', 2751), ('not', 2665), ('1', 2261), ('with', 1943), ('for', 1908), ('when', 1833), ('2', 1709), ('like', 1696), ('my', 1558), ('no', 1539), ('this', 1491), ('but', 1447), ('have', 1410), ('so', 1381), ('what', 1362), ('me', 1331), ('be', 1318), ('don', 1241), ('are', 1228), ('was', 1221), ('he', 1219), ('can', 1204), ('m', 1179), ('if', 1112), ('man', 1075), ('do', 1034), ('just', 1033), ('from', 1026), ('know', 1025), ('all', 1006), ('woman', 998), ('your', 984), ('up', 971), ('at', 966), ('we', 943)]\n"
     ]
    }
   ],
   "source": [
    "# Sorting all words that webtext has based on their frequency in descending order\n",
    "top_fifty_web_words = sorted(top_fifty_web_words_frequency.items(), key=operator.itemgetter(1), reverse = True)\n",
    "print(top_fifty_web_words[:50]) # Displaying the top 50 words and their frequency that webtext has"
   ]
  },
  {
   "cell_type": "code",
   "execution_count": 11,
   "metadata": {
    "collapsed": false
   },
   "outputs": [
    {
     "name": "stdout",
     "output_type": "stream",
     "text": [
      "['steed', 'act', 'hope', 'scolding', 'hew', 'seeme', 'grug', 'lustre', 'quickly', 'president', 'died', 'audit', 'exploit', 'repetition', 'words', 'strongly', 'stare', 'hearke', 'hisse', 'rest', 'past', 'stonie', 'speedie', 'incenst', 'throate', 'space', 'kin', 'infected', 'may', 'sticke', 'leade', 'field', 'natiue', 'slight', 'ake', 'bespeake', 'inkindled', 'visit', 'duncans', 'lights', 'legges', 'arrant', 'approches', 'groane', 'countenance', 'weyard', 'studied', 'conflict', 'choyce', 'enrage']\n"
     ]
    }
   ],
   "source": [
    "full_stopwords_list = [x.lower() for x in stopwords.words()] # Creating a list containing all stop words in lowercase\n",
    "stopwords_count = 0 # Assigning a count variable to 0\n",
    "shakespear_list_without_stopwords = [] # Creating an empty to store all shakespeare's words eliminating stop words\n",
    "\n",
    "for x in shakespear_full_words_lowercase_unique: # looping through all unique words that shakespeare used\n",
    "    for y in full_stopwords_list: # looping through all stop words\n",
    "        if x == y: # If there is a match then we are incrementing the count variable\n",
    "            stopwords_count = stopwords_count + 1\n",
    "    if stopwords_count < 1: # If there is not a match then count will be 0 so adding these words to shakespear_list_without_stopwords\n",
    "        shakespear_list_without_stopwords.append(x)\n",
    "    stopwords_count = 0  # Reassigning count to 0 for outer for loop\n",
    "\n",
    "print(shakespear_list_without_stopwords[:50]) # Displaying shakespeare's words without stop words     "
   ]
  },
  {
   "cell_type": "code",
   "execution_count": 12,
   "metadata": {
    "collapsed": false
   },
   "outputs": [
    {
     "name": "stdout",
     "output_type": "stream",
     "text": [
      "['coked', 'cumbersome', 'summer', 'expands', 'principle', 'electrical', 'omelettes', 'autistic', 'unforeseeable', 'strips', 'hrefs', 'internal', 'embed', 'viewfader', 'parka', 'hi', 'narnia', 'solly', 'merged', 'rousanne', 'reusing', 'running', 'dm', 'consume', 'flushing', 'passionate', 'f9', 'knocked', 'libxpcom', 'bullets', 'kills', 'elmer', 'express', 'cleaners', 'judaism', 'alwaysacceptsessioncookies', 'quickly', 'factory', 'vegan', 'hussein', 'president', 'paddy', '23rd', 'kay', 'died', 'witnesses', 'audit', 'pirate', 'someplace', 'exploit']\n"
     ]
    }
   ],
   "source": [
    "web_list_without_stopwords = [] # Creating an empty to store all web words eliminating stop words\n",
    "\n",
    "for x in web_full_words_lowercase_unique: # looping through all unique words that webtext has\n",
    "    for y in full_stopwords_list: # looping through all stop words\n",
    "        if x == y: # If there is a match then we are incrementing the count variable\n",
    "            stopwords_count = stopwords_count + 1\n",
    "    if stopwords_count < 1: # If there is not a match then count will be 0 so adding these words to web_list_without_stopwords\n",
    "        web_list_without_stopwords.append(x) \n",
    "    stopwords_count = 0  # Reassigning count to 0 for outer for loop\n",
    "\n",
    "print(web_list_without_stopwords[:50]) # Displaying webtext's words without stop words"
   ]
  },
  {
   "cell_type": "code",
   "execution_count": 14,
   "metadata": {
    "collapsed": false,
    "scrolled": false
   },
   "outputs": [],
   "source": [
    "#top_five_shakespear_words = []\n",
    "#top_five_word_count = 0\n",
    "#for x in shakespear_list_without_stopwords:\n",
    "    #for y in web_list_without_stopwords:\n",
    "        #if x == y:\n",
    "            #top_five_word_count = top_five_word_count + 1\n",
    "    #if top_five_word_count < 1:\n",
    "        #top_five_shakespear_words.append(x)\n",
    "    #top_five_word_count = 0\n",
    "#print(top_five_shakespear_words[:5])"
   ]
  }
 ],
 "metadata": {
  "anaconda-cloud": {},
  "kernelspec": {
   "display_name": "Python [conda root]",
   "language": "python",
   "name": "conda-root-py"
  },
  "language_info": {
   "codemirror_mode": {
    "name": "ipython",
    "version": 3
   },
   "file_extension": ".py",
   "mimetype": "text/x-python",
   "name": "python",
   "nbconvert_exporter": "python",
   "pygments_lexer": "ipython3",
   "version": "3.5.2"
  }
 },
 "nbformat": 4,
 "nbformat_minor": 1
}
