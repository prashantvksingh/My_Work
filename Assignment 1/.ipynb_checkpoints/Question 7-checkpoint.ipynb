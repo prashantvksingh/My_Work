{
 "cells": [
  {
   "cell_type": "markdown",
   "metadata": {},
   "source": [
    "# Question 7\n",
    "- List all female names\n",
    "- List all male names\n",
    "- List character frequency in female names\n",
    "- List character frequency in male names\n",
    "- List total name frequency\n",
    "- Display probability of being man or women based on names last character"
   ]
  },
  {
   "cell_type": "code",
   "execution_count": 1,
   "metadata": {
    "collapsed": false
   },
   "outputs": [],
   "source": [
    "from nltk.corpus import names\n",
    "import string"
   ]
  },
  {
   "cell_type": "code",
   "execution_count": 2,
   "metadata": {
    "collapsed": false
   },
   "outputs": [],
   "source": [
    "all_female_names = names.words(fileids = ['female.txt']) # Storing all female names in a list\n",
    "\n",
    "all_male_names = names.words(fileids = ['male.txt']) # Storing all male names in a list"
   ]
  },
  {
   "cell_type": "code",
   "execution_count": 3,
   "metadata": {
    "collapsed": false
   },
   "outputs": [],
   "source": [
    "all_characters = list(string.ascii_lowercase[:]) # Creating a list containg all english alphabets"
   ]
  },
  {
   "cell_type": "code",
   "execution_count": 4,
   "metadata": {
    "collapsed": false
   },
   "outputs": [
    {
     "name": "stdout",
     "output_type": "stream",
     "text": [
      "{'d': 228, 'u': 12, 'r': 190, 'n': 478, 'i': 50, 'o': 165, 'm': 70, 'k': 69, 'j': 3, 'v': 16, 'z': 11, 'f': 25, 'h': 93, 'a': 29, 'g': 32, 'y': 332, 's': 230, 't': 164, 'c': 25, 'w': 17, 'x': 10, 'b': 21, 'p': 18, 'l': 187, 'q': 0, 'e': 468}\n"
     ]
    }
   ],
   "source": [
    "male_character_frequency = {} # Creating an empty dictionary to store alphabets and count of their occurence in male name's\n",
    "male_count = 0 # Creating a count variable and assigning value 0 to it\n",
    "for b in all_characters: # Looping through all alphabets\n",
    "    for a in all_male_names: # Looping through all male name's\n",
    "        if a.endswith(b): # Checking if male's name ends with specified alphabet\n",
    "            male_count = male_count + 1 # If condition satisfies then incrementing count\n",
    "    male_character_frequency.update({b:male_count}) # Adding alphabet and their corresponding frequency\n",
    "    male_count = 0 # Reassigning count variable to 0 for outer for loop\n",
    "print(male_character_frequency) # Displaying alphabets and their count       "
   ]
  },
  {
   "cell_type": "code",
   "execution_count": 5,
   "metadata": {
    "collapsed": false
   },
   "outputs": [
    {
     "name": "stdout",
     "output_type": "stream",
     "text": [
      "{'d': 39, 'u': 6, 'r': 47, 'n': 386, 'i': 317, 'o': 33, 'm': 13, 'k': 3, 'j': 1, 'v': 2, 'z': 4, 'f': 2, 'h': 105, 'a': 1773, 'g': 10, 'y': 461, 's': 93, 't': 68, 'c': 0, 'w': 5, 'x': 10, 'b': 9, 'p': 2, 'l': 179, 'q': 0, 'e': 1432}\n"
     ]
    }
   ],
   "source": [
    "female_character_frequency = {} # Creating an empty dictionary to store alphabets and count of their occurence in female name's\n",
    "female_count = 0 # Creating a count variable and assigning value 0 to it\n",
    "for b in all_characters: # Looping through all alphabets\n",
    "    for a in all_female_names: # Looping through all female name's\n",
    "        if a.endswith(b): # Checking if female's name ends with specified alphabet\n",
    "            female_count = female_count + 1 # If condition satisfies then incrementing count\n",
    "    female_character_frequency.update({b:female_count}) # Adding alphabet and their corresponding frequency\n",
    "    female_count = 0 # Reassigning count variable to 0 for outer for loop\n",
    "print(female_character_frequency) # Displaying alphabets and their count"
   ]
  },
  {
   "cell_type": "code",
   "execution_count": 6,
   "metadata": {
    "collapsed": false
   },
   "outputs": [
    {
     "name": "stdout",
     "output_type": "stream",
     "text": [
      "7943\n"
     ]
    }
   ],
   "source": [
    "male_names = 0 # Creating a count variable and assigning value 0 to it\n",
    "female_names = 0 # Creating a count variable and assigning value 0 to it\n",
    "\n",
    "for p in male_character_frequency.values(): # Looping through all values in male's dictionary\n",
    "    male_names = male_names + p # Adding all values\n",
    "    \n",
    "for p in female_character_frequency.values(): # Looping through all values in female's dictionary\n",
    "    female_names = female_names + p # Adding all values\n",
    "    \n",
    "total_names = male_names + female_names # Calculating total male and female sum\n",
    "\n",
    "print(total_names) # Displaying total sum"
   ]
  },
  {
   "cell_type": "code",
   "execution_count": 7,
   "metadata": {
    "collapsed": false
   },
   "outputs": [
    {
     "name": "stdout",
     "output_type": "stream",
     "text": [
      "[ a ] male:  0.3651013470980738 % ,  female:  22.321540979478787 %\n",
      "[ b ] male:  0.2643837341055017 % ,  female:  0.11330731461664358 %\n",
      "[ c ] male:  0.31474254060178775 % ,  female:  0.0 %\n",
      "[ d ] male:  2.870451970288304 % ,  female:  0.4909983633387889 %\n",
      "[ e ] male:  5.8919803600654665 % ,  female:  18.0284527256704 %\n",
      "[ f ] male:  0.31474254060178775 % ,  female:  0.02517940324814302 %\n",
      "[ g ] male:  0.4028704519702883 % ,  female:  0.1258970162407151 %\n",
      "[ h ] male:  1.1708422510386503 % ,  female:  1.3219186705275086 %\n",
      "[ i ] male:  0.6294850812035755 % ,  female:  3.990935414830669 %\n",
      "[ j ] male:  0.03776910487221453 % ,  female:  0.01258970162407151 %\n",
      "[ k ] male:  0.8686894120609341 % ,  female:  0.03776910487221453 %\n",
      "[ l ] male:  2.3542742037013724 % ,  female:  2.2535565907088 %\n",
      "[ m ] male:  0.8812791136850056 % ,  female:  0.16366612111292964 %\n",
      "[ n ] male:  6.017877376306181 % ,  female:  4.859624826891603 %\n",
      "[ o ] male:  2.077300767971799 % ,  female:  0.41546015359435984 %\n",
      "[ p ] male:  0.22661462923328715 % ,  female:  0.02517940324814302 %\n",
      "[ q ] male:  0.0 % ,  female:  0.0 %\n",
      "[ r ] male:  2.392043308573587 % ,  female:  0.591715976331361 %\n",
      "[ s ] male:  2.895631373536447 % ,  female:  1.1708422510386503 %\n",
      "[ t ] male:  2.0647110663477277 % ,  female:  0.8560997104368626 %\n",
      "[ u ] male:  0.1510764194888581 % ,  female:  0.07553820974442906 %\n",
      "[ v ] male:  0.20143522598514416 % ,  female:  0.02517940324814302 %\n",
      "[ w ] male:  0.21402492760921565 % ,  female:  0.06294850812035754 %\n",
      "[ x ] male:  0.1258970162407151 % ,  female:  0.1258970162407151 %\n",
      "[ y ] male:  4.179780939191741 % ,  female:  5.803852448696966 %\n",
      "[ z ] male:  0.13848671786478658 % ,  female:  0.05035880649628604 %\n"
     ]
    }
   ],
   "source": [
    "for p in all_characters: # Looping through all alphabets\n",
    "    \n",
    "    # Calculating probability of male's name ending with specified character\n",
    "    male_probability = ((male_character_frequency[p])/(total_names)) * (100) \n",
    "    \n",
    "    # Calculating probability of female's name ending with specified character\n",
    "    female_probability = ((female_character_frequency[p])/(total_names)) * (100)\n",
    "    \n",
    "    # Displaying probality as percentage\n",
    "    print('[', p, ']', 'male: ', male_probability, '%', ',', ' female: ', female_probability, '%')"
   ]
  }
 ],
 "metadata": {
  "kernelspec": {
   "display_name": "Python [conda root]",
   "language": "python",
   "name": "conda-root-py"
  },
  "language_info": {
   "codemirror_mode": {
    "name": "ipython",
    "version": 3
   },
   "file_extension": ".py",
   "mimetype": "text/x-python",
   "name": "python",
   "nbconvert_exporter": "python",
   "pygments_lexer": "ipython3",
   "version": "3.5.2"
  }
 },
 "nbformat": 4,
 "nbformat_minor": 1
}
