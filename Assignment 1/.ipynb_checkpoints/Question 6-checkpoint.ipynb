{
 "cells": [
  {
   "cell_type": "markdown",
   "metadata": {},
   "source": [
    "# Question 6\n",
    "- Display President's name and unique word they used during their speech"
   ]
  },
  {
   "cell_type": "code",
   "execution_count": 1,
   "metadata": {
    "collapsed": true
   },
   "outputs": [],
   "source": [
    "from nltk.corpus import inaugural"
   ]
  },
  {
   "cell_type": "code",
   "execution_count": 2,
   "metadata": {
    "collapsed": false
   },
   "outputs": [],
   "source": [
    "president_word_count = {} # Creating an empty dictionary to store president's name and number of unique words that they spoke\n",
    "for x in inaugural.fileids(): # Looping through all files under inaugural package\n",
    "    name = x[5:-4] # Storing president's name in a string variable\n",
    "    total_words = inaugural.words(x) # Storing all words spoken by a president in a list\n",
    "    unique_words = set(total_words) # Storing unique words spoken by a president in a list\n",
    "    total_unique_words = len(unique_words) # Calculating number of unique words spoken by a president\n",
    "    president_word_count.update({name:total_unique_words}) # Storing president's name and number of unique words that they spoke"
   ]
  },
  {
   "cell_type": "code",
   "execution_count": 11,
   "metadata": {
    "collapsed": false
   },
   "outputs": [
    {
     "name": "stdout",
     "output_type": "stream",
     "text": [
      "{'Bush': 783, 'Monroe': 1265, 'Truman': 781, 'Eisenhower': 622, 'Grant': 553, 'Nixon': 545, 'Washington': 96, 'Harding': 1170, 'Jefferson': 806, 'Taylor': 499, 'Lincoln': 363, 'Hayes': 832, 'Taft': 1439, 'Hoover': 1087, 'Madison': 542, 'Pierce': 1168, 'Adams': 1007, 'Carter': 529, 'Polk': 1333, 'Jackson': 502, 'Cleveland': 820, 'Obama': 938, 'Buchanan': 948, 'Wilson': 549, 'Johnson': 571, 'Garfield': 1022, 'Roosevelt': 280, 'Kennedy': 570, 'Clinton': 774, 'Coolidge': 1221, 'Reagan': 924, 'VanBuren': 1318, 'Harrison': 1358, 'McKinley': 860}\n"
     ]
    }
   ],
   "source": [
    "print(president_word_count) # Displaying president's name and number of unique words that they spoke"
   ]
  }
 ],
 "metadata": {
  "anaconda-cloud": {},
  "kernelspec": {
   "display_name": "Python [conda root]",
   "language": "python",
   "name": "conda-root-py"
  },
  "language_info": {
   "codemirror_mode": {
    "name": "ipython",
    "version": 3
   },
   "file_extension": ".py",
   "mimetype": "text/x-python",
   "name": "python",
   "nbconvert_exporter": "python",
   "pygments_lexer": "ipython3",
   "version": "3.5.2"
  }
 },
 "nbformat": 4,
 "nbformat_minor": 1
}
