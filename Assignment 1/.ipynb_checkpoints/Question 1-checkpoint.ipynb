{
 "cells": [
  {
   "cell_type": "markdown",
   "metadata": {},
   "source": [
    "# Question 1\n",
    "- List all files under guterberg package\n",
    "- List all words under file 'austen-persuasion.txt'\n",
    "- List all unique words under file 'austen-persuasion.txt'\n",
    "- List frequency of each word\n",
    "- List Top 10 most frequent words and their frequency"
   ]
  },
  {
   "cell_type": "code",
   "execution_count": 1,
   "metadata": {
    "collapsed": false
   },
   "outputs": [],
   "source": [
    "from nltk.corpus import gutenberg\n",
    "import operator"
   ]
  },
  {
   "cell_type": "code",
   "execution_count": 2,
   "metadata": {
    "collapsed": false
   },
   "outputs": [
    {
     "data": {
      "text/plain": [
       "['austen-emma.txt',\n",
       " 'austen-persuasion.txt',\n",
       " 'austen-sense.txt',\n",
       " 'bible-kjv.txt',\n",
       " 'blake-poems.txt',\n",
       " 'bryant-stories.txt',\n",
       " 'burgess-busterbrown.txt',\n",
       " 'carroll-alice.txt',\n",
       " 'chesterton-ball.txt',\n",
       " 'chesterton-brown.txt',\n",
       " 'chesterton-thursday.txt',\n",
       " 'edgeworth-parents.txt',\n",
       " 'melville-moby_dick.txt',\n",
       " 'milton-paradise.txt',\n",
       " 'shakespeare-caesar.txt',\n",
       " 'shakespeare-hamlet.txt',\n",
       " 'shakespeare-macbeth.txt',\n",
       " 'whitman-leaves.txt']"
      ]
     },
     "execution_count": 2,
     "metadata": {},
     "output_type": "execute_result"
    }
   ],
   "source": [
    "gutenberg.fileids() # Displaying all files under gutenberg package"
   ]
  },
  {
   "cell_type": "code",
   "execution_count": 3,
   "metadata": {
    "collapsed": false
   },
   "outputs": [
    {
     "name": "stdout",
     "output_type": "stream",
     "text": [
      "['[', 'Persuasion', 'by', 'Jane', 'Austen', '1818', ']', 'Chapter', '1', 'Sir', 'Walter', 'Elliot', ',', 'of', 'Kellynch', 'Hall', ',', 'in', 'Somersetshire', ',', 'was', 'a', 'man', 'who', ',', 'for', 'his', 'own', 'amusement', ',', 'never', 'took', 'up', 'any', 'book', 'but', 'the', 'Baronetage', ';', 'there', 'he', 'found', 'occupation', 'for', 'an', 'idle', 'hour', ',', 'and', 'consolation']\n"
     ]
    }
   ],
   "source": [
    "all_words = gutenberg.words('austen-persuasion.txt') # Storing all words under file 'austen-persuasion.txt' in a list\n",
    "print(all_words[:50]) # Displaying all words stored under list"
   ]
  },
  {
   "cell_type": "code",
   "execution_count": 8,
   "metadata": {
    "collapsed": false
   },
   "outputs": [],
   "source": [
    "unique_words = set(all_words) # Filtering and saving all unique words in a list"
   ]
  },
  {
   "cell_type": "code",
   "execution_count": 9,
   "metadata": {
    "collapsed": false
   },
   "outputs": [],
   "source": [
    "Words_Frequency = {} # Creating an empty dictionary\n",
    "Word_count = 0 # Creating and assigning value to a count variable\n",
    "new_list1 = set([x1.lower() for x1 in all_words]) # Creating a list which stores all unique words from words present in 'all_words' list\n",
    "new_list2 = [x2.lower() for x2 in all_words] # Creating a list which stores all words from words present in 'all_words' list\n",
    "\n",
    "for x in new_list1: # Looping through all unique words\n",
    "    for y in new_list2: # Looping through all unique words\n",
    "        if x == y:\n",
    "            Word_count = Word_count + 1 # Increamenting the count variable by 1 when if conditind succeeds\n",
    "            #r1 = new_list2.index(y)\n",
    "            #new_list2.pop(r1)\n",
    "    Words_Frequency.update({x:Word_count}) # Adding word alongwith its total frequency in the dictionary\n",
    "    Word_count = 0 # Ressiging the count variable to 0 for next run of the outer for loop"
   ]
  },
  {
   "cell_type": "code",
   "execution_count": 10,
   "metadata": {
    "collapsed": false
   },
   "outputs": [],
   "source": [
    "sorted_words = sorted(Words_Frequency.items(), key=operator.itemgetter(1), reverse = True) # Sorting the dictionary value in descending order"
   ]
  },
  {
   "cell_type": "code",
   "execution_count": 11,
   "metadata": {
    "collapsed": false
   },
   "outputs": [
    {
     "name": "stdout",
     "output_type": "stream",
     "text": [
      "[(',', 6750), ('the', 3329), ('to', 2808), ('and', 2801), ('.', 2741), ('of', 2570), ('a', 1595), ('in', 1389), ('was', 1337), (';', 1290)]\n"
     ]
    }
   ],
   "source": [
    "print(sorted_words[:10]) # Displaying top ten words alongwith its frequency"
   ]
  }
 ],
 "metadata": {
  "anaconda-cloud": {},
  "kernelspec": {
   "display_name": "Python [conda root]",
   "language": "python",
   "name": "conda-root-py"
  },
  "language_info": {
   "codemirror_mode": {
    "name": "ipython",
    "version": 3
   },
   "file_extension": ".py",
   "mimetype": "text/x-python",
   "name": "python",
   "nbconvert_exporter": "python",
   "pygments_lexer": "ipython3",
   "version": "3.5.2"
  }
 },
 "nbformat": 4,
 "nbformat_minor": 1
}
