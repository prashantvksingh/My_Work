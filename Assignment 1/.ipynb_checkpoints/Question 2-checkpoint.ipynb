{
 "cells": [
  {
   "cell_type": "markdown",
   "metadata": {},
   "source": [
    "# Question 2\n",
    "- Get all contents of file 'melville-moby_dick.txt' present under guternberg package\n",
    "- Turn uppercase character to lowercase character\n",
    "- Calculate frequency of each character\n",
    "- Display frequency of each character in descending order"
   ]
  },
  {
   "cell_type": "code",
   "execution_count": 1,
   "metadata": {
    "collapsed": false
   },
   "outputs": [],
   "source": [
    "from nltk.corpus import gutenberg\n",
    "import operator"
   ]
  },
  {
   "cell_type": "code",
   "execution_count": 2,
   "metadata": {
    "collapsed": false
   },
   "outputs": [],
   "source": [
    "full_content = gutenberg.raw('melville-moby_dick.txt') # Storing all content in 'full_content' list"
   ]
  },
  {
   "cell_type": "code",
   "execution_count": 3,
   "metadata": {
    "collapsed": false
   },
   "outputs": [
    {
     "name": "stdout",
     "output_type": "stream",
     "text": [
      "['M', 'o', 'b', 'y', 'D', 'i', 'c', 'k', 'b', 'y']\n"
     ]
    }
   ],
   "source": [
    "cleaned_content = [x for x in full_content if x.isalnum()] # Storing all alphanumeric content in 'cleaned_content' list\n",
    "character_content = [] # Creating an empty 'character_content' list\n",
    "for x1 in cleaned_content: # looping through all strings in cleaned_content\n",
    "    if x1.isalpha(): # Checking whether the String contains only characters\n",
    "        character_content.append(x1) # Appending the String to 'character_content' if the condition is satisfied\n",
    "print(character_content[:10]) # Displaying the content of 'character_content' list"
   ]
  },
  {
   "cell_type": "code",
   "execution_count": 4,
   "metadata": {
    "collapsed": false
   },
   "outputs": [
    {
     "name": "stdout",
     "output_type": "stream",
     "text": [
      "['m', 'o', 'b', 'y', 'd', 'i', 'c', 'k', 'b', 'y']\n"
     ]
    }
   ],
   "source": [
    "lower_case_list = [x2.lower() for x2 in character_content] # Creating a list containing only smallcase characters\n",
    "print(lower_case_list[:10]) # Displaying the content of 'lower_case_list' list"
   ]
  },
  {
   "cell_type": "code",
   "execution_count": 5,
   "metadata": {
    "collapsed": false
   },
   "outputs": [
    {
     "name": "stdout",
     "output_type": "stream",
     "text": [
      "{'p': 17255, 'm': 23277, 'r': 52134, 'e': 117092, 'n': 65617, 'o': 69326, 'u': 26697, 'x': 1030, 'y': 16872, 'q': 1556, 'f': 20833, 'v': 8598, 'i': 65434, 'z': 632, 'w': 22222, 's': 64231, 'k': 8059, 'd': 38219, 'g': 20820, 'a': 77916, 'l': 42793, 'b': 16877, 'h': 62896, 't': 87996, 'j': 1082, 'c': 22507}\n"
     ]
    }
   ],
   "source": [
    "Character_Frequency = {} # Creating an empty dictionary 'Character_Frequency'\n",
    "Word_count = 0 # Creating a count variable\n",
    "lower_case_list_unique = set(lower_case_list) # Creating a list containing unique characters from lower_case_list\n",
    "for x in lower_case_list_unique: # Looping through all characters in lower_case_list_unique\n",
    "    for y in lower_case_list: # Looping through all characters in lower_case_list\n",
    "        if x == y: # Checking if character in lower_case_list_unique equals character in lower_case_list\n",
    "            Word_count = Word_count + 1 # Incrementing the count variable if condition matches\n",
    "            #r1 = new_list2.index(y)\n",
    "            #new_list2.pop(r1)\n",
    "    Character_Frequency.update({x:Word_count}) # Appending characters alongwith their frequency to Character_Frequency\n",
    "    Word_count = 0 # Ressiging the count variable to 0 for next run of the outer for loop\n",
    "print(Character_Frequency) # Displaying content of Character_Frequency"
   ]
  },
  {
   "cell_type": "code",
   "execution_count": 6,
   "metadata": {
    "collapsed": false
   },
   "outputs": [
    {
     "name": "stdout",
     "output_type": "stream",
     "text": [
      "[('e', 117092), ('t', 87996), ('a', 77916), ('o', 69326), ('n', 65617), ('i', 65434), ('s', 64231), ('h', 62896), ('r', 52134), ('l', 42793), ('d', 38219), ('u', 26697), ('m', 23277), ('c', 22507), ('w', 22222), ('f', 20833), ('g', 20820), ('p', 17255), ('b', 16877), ('y', 16872), ('v', 8598), ('k', 8059), ('q', 1556), ('j', 1082), ('x', 1030), ('z', 632)]\n"
     ]
    }
   ],
   "source": [
    "sorted_characters = sorted(Character_Frequency.items(), key=operator.itemgetter(1), reverse = True) # Sorting the Character_Frequency based on key's value\n",
    "print(sorted_characters) # Displaying sorted list in descending order of key's value"
   ]
  }
 ],
 "metadata": {
  "anaconda-cloud": {},
  "kernelspec": {
   "display_name": "Python [conda root]",
   "language": "python",
   "name": "conda-root-py"
  },
  "language_info": {
   "codemirror_mode": {
    "name": "ipython",
    "version": 3
   },
   "file_extension": ".py",
   "mimetype": "text/x-python",
   "name": "python",
   "nbconvert_exporter": "python",
   "pygments_lexer": "ipython3",
   "version": "3.5.2"
  }
 },
 "nbformat": 4,
 "nbformat_minor": 1
}
