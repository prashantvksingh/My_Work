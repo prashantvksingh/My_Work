{
 "cells": [
  {
   "cell_type": "markdown",
   "metadata": {},
   "source": [
    "# Question 3\n",
    "- List all files under Webtext package\n",
    "- Read content of file 'pirates.txt'\n",
    "- Display the lead actor of the movie"
   ]
  },
  {
   "cell_type": "code",
   "execution_count": 1,
   "metadata": {
    "collapsed": true
   },
   "outputs": [],
   "source": [
    "from nltk.corpus import webtext"
   ]
  },
  {
   "cell_type": "code",
   "execution_count": 2,
   "metadata": {
    "collapsed": false
   },
   "outputs": [
    {
     "data": {
      "text/plain": [
       "['firefox.txt',\n",
       " 'grail.txt',\n",
       " 'overheard.txt',\n",
       " 'pirates.txt',\n",
       " 'singles.txt',\n",
       " 'wine.txt']"
      ]
     },
     "execution_count": 2,
     "metadata": {},
     "output_type": "execute_result"
    }
   ],
   "source": [
    "webtext.fileids() # Displaying all files under Webtext package"
   ]
  },
  {
   "cell_type": "code",
   "execution_count": 3,
   "metadata": {
    "collapsed": false
   },
   "outputs": [
    {
     "name": "stdout",
     "output_type": "stream",
     "text": [
      "PIRATES OF THE CARRIBEAN: DEAD MAN'S CHEST, by Ted\n"
     ]
    }
   ],
   "source": [
    "full_file_content = webtext.raw('pirates.txt') # SToring all content of 'pirates.txt' file in 'full_file_content' list\n",
    "print(full_file_content[:50]) # Displaying content of 'full_file_content' list"
   ]
  },
  {
   "cell_type": "code",
   "execution_count": 4,
   "metadata": {
    "collapsed": false
   },
   "outputs": [
    {
     "name": "stdout",
     "output_type": "stream",
     "text": [
      "Jack Sparrow is the lead actor\n"
     ]
    }
   ],
   "source": [
    "sentence_number_jack = full_file_content.count('JACK SPARROW:') # Storing count of sentences of 'JACK SPARROW' in a variable\n",
    "sentence_number_will = full_file_content.count('WILL TURNER:') # Storing count of sentences of 'WILL TURNER' in a variable\n",
    "if sentence_number_jack > sentence_number_will: # CHecking who spoke more sentences\n",
    "    print('Jack Sparrow is the lead actor') # Displaying if 'JACK SPARROW' spoke more sentences\n",
    "else:\n",
    "    print('Will Turner is the lead actor') # Displaying if 'WILL TURNER' spoke more sentences"
   ]
  }
 ],
 "metadata": {
  "anaconda-cloud": {},
  "kernelspec": {
   "display_name": "Python [conda root]",
   "language": "python",
   "name": "conda-root-py"
  },
  "language_info": {
   "codemirror_mode": {
    "name": "ipython",
    "version": 3
   },
   "file_extension": ".py",
   "mimetype": "text/x-python",
   "name": "python",
   "nbconvert_exporter": "python",
   "pygments_lexer": "ipython3",
   "version": "3.5.2"
  }
 },
 "nbformat": 4,
 "nbformat_minor": 1
}
