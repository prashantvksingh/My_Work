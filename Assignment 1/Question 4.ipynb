{
 "cells": [
  {
   "cell_type": "markdown",
   "metadata": {},
   "source": [
    "# Question 4\n",
    "- Read all content of files from nps_chat corpora\n",
    "- Display the count of conversation by user121\n",
    "- Display number of unique users in each age group"
   ]
  },
  {
   "cell_type": "code",
   "execution_count": 18,
   "metadata": {
    "collapsed": false
   },
   "outputs": [],
   "source": [
    "from nltk.corpus import nps_chat\n",
    "from xml.dom import minidom"
   ]
  },
  {
   "cell_type": "code",
   "execution_count": 19,
   "metadata": {
    "collapsed": false
   },
   "outputs": [],
   "source": [
    "path = 'C:\\\\nltk_data\\\\corpora\\\\nps_chat\\\\' # Storing the path of all nps_chat files in a string variable\n",
    "userlist = [] # Creating an empty list\n",
    "for x in  nps_chat.fileids(): # looping through all files under nps_chat\n",
    "    xmldoc = minidom.parse(path+x) # Parsing the xml file\n",
    "    itemlist = xmldoc.getElementsByTagName('Post') # Getting the information stored under tag 'Post'\n",
    "    for s in itemlist: # looping through all information under tag 'Post'\n",
    "        userlist.append(s.attributes['user'].value) # Appending the information stored under tag 'user'"
   ]
  },
  {
   "cell_type": "code",
   "execution_count": 20,
   "metadata": {
    "collapsed": false,
    "scrolled": true
   },
   "outputs": [
    {
     "name": "stdout",
     "output_type": "stream",
     "text": [
      "The number of posts by user121 are:  104\n"
     ]
    }
   ],
   "source": [
    "count = 0 # Declaring a count variable and assigning it value 0\n",
    "userlist_lowercase = [x.lower() for x in userlist] # Creating a list that contains all strings in lowercase\n",
    "for y in userlist_lowercase: # Looping through the lowercase list\n",
    "    if y[9:] == 'user121': # Checking if username is user121\n",
    "        count = count + 1 # If above condition is satisfied then incrementing the count value\n",
    "\n",
    "print('The number of posts by user121 are: ', count) # Displaying number of total sentences spoken by user121\n"
   ]
  },
  {
   "cell_type": "code",
   "execution_count": 21,
   "metadata": {
    "collapsed": true
   },
   "outputs": [],
   "source": [
    "Twenties_list = [] # Creating an empty list for people in their 20s\n",
    "Thirties_list = [] # Creating an empty list for people in their 30s\n",
    "Fourties_list = [] # Creating an empty list for people in their 40s\n",
    "Teens_list = [] # Creating an empty list for people who are teenager\n",
    "Adults_list = [] # Creating an empty list for people who are adults\n",
    "\n",
    "for x in userlist: # looping through all users\n",
    "    if x.count('20s') == 1:\n",
    "        Twenties_list.append(x) # Appending to 20s user list\n",
    "    elif x.count('30s') == 1:\n",
    "        Thirties_list.append(x) # Appending to 30s user list\n",
    "    elif x.count('40s') == 1:\n",
    "        Fourties_list.append(x) # Appending to 40s user list\n",
    "    elif x.count('adults') == 1: \n",
    "        Adults_list.append(x) # Appending to adult user list\n",
    "    else:\n",
    "        Teens_list.append(x) # Appending to teenager user list"
   ]
  },
  {
   "cell_type": "code",
   "execution_count": 22,
   "metadata": {
    "collapsed": false
   },
   "outputs": [],
   "source": [
    "unique_Twenties_list = set(Twenties_list) # Creating a list with unique users in their 20s\n",
    "unique_Thirties_list = set(Thirties_list) # Creating a list with unique users in their 30s\n",
    "unique_Fourties_list = set(Fourties_list) # Creating a list with unique users in their 40s\n",
    "unique_Teens_list = set(Teens_list) # Creating a list with unique users who are teenager\n",
    "unique_Adults_list = set(Adults_list) # Creating a list with unique users who are adults"
   ]
  },
  {
   "cell_type": "code",
   "execution_count": 23,
   "metadata": {
    "collapsed": false
   },
   "outputs": [
    {
     "name": "stdout",
     "output_type": "stream",
     "text": [
      "The number of unique users in 20s are:  305\n",
      "The number of unique users in 30s are:  44\n",
      "The number of unique users in 40s are:  228\n",
      "The number of unique Adult users are:  357\n",
      "The number of unique Teen users are:  443\n"
     ]
    }
   ],
   "source": [
    "print('The number of unique users in 20s are: ', len(unique_Twenties_list)) # Displaying 20s list\n",
    "print('The number of unique users in 30s are: ', len(unique_Thirties_list)) # Displaying 30s list\n",
    "print('The number of unique users in 40s are: ', len(unique_Fourties_list)) # Displaying 40s list\n",
    "print('The number of unique Adult users are: ', len(unique_Adults_list)) # Displaying adults list\n",
    "print('The number of unique Teen users are: ', len(unique_Teens_list)) # Displaying teenager list"
   ]
  }
 ],
 "metadata": {
  "anaconda-cloud": {},
  "kernelspec": {
   "display_name": "Python [conda root]",
   "language": "python",
   "name": "conda-root-py"
  },
  "language_info": {
   "codemirror_mode": {
    "name": "ipython",
    "version": 3
   },
   "file_extension": ".py",
   "mimetype": "text/x-python",
   "name": "python",
   "nbconvert_exporter": "python",
   "pygments_lexer": "ipython3",
   "version": "3.5.2"
  }
 },
 "nbformat": 4,
 "nbformat_minor": 1
}
